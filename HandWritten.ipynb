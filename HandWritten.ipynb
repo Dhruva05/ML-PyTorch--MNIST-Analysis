{
 "cells": [
  {
   "cell_type": "code",
   "execution_count": 20,
   "metadata": {},
   "outputs": [
    {
     "data": {
      "text/plain": [
       "True"
      ]
     },
     "execution_count": 20,
     "metadata": {},
     "output_type": "execute_result"
    }
   ],
   "source": [
    "import torch\n",
    "from torchvision import datasets\n",
    "from torchvision.transforms import ToTensor\n",
    "torch.cuda.is_available()\n"
   ]
  },
  {
   "cell_type": "code",
   "execution_count": 21,
   "metadata": {},
   "outputs": [],
   "source": [
    "train_data = datasets.MNIST(\n",
    "    root='data',\n",
    "    train = True,\n",
    "    transform=ToTensor(),\n",
    "    download = True\n",
    ")\n",
    "\n",
    "test_data = datasets.MNIST(\n",
    "    root='data',\n",
    "    train = False,\n",
    "    transform=ToTensor(),\n",
    "    download = True\n",
    ")"
   ]
  },
  {
   "cell_type": "code",
   "execution_count": 22,
   "metadata": {},
   "outputs": [
    {
     "data": {
      "text/plain": [
       "Dataset MNIST\n",
       "    Number of datapoints: 60000\n",
       "    Root location: data\n",
       "    Split: Train\n",
       "    StandardTransform\n",
       "Transform: ToTensor()"
      ]
     },
     "execution_count": 22,
     "metadata": {},
     "output_type": "execute_result"
    }
   ],
   "source": [
    "train_data"
   ]
  },
  {
   "cell_type": "code",
   "execution_count": 23,
   "metadata": {},
   "outputs": [
    {
     "data": {
      "text/plain": [
       "Dataset MNIST\n",
       "    Number of datapoints: 10000\n",
       "    Root location: data\n",
       "    Split: Test\n",
       "    StandardTransform\n",
       "Transform: ToTensor()"
      ]
     },
     "execution_count": 23,
     "metadata": {},
     "output_type": "execute_result"
    }
   ],
   "source": [
    "test_data"
   ]
  },
  {
   "cell_type": "code",
   "execution_count": 24,
   "metadata": {},
   "outputs": [
    {
     "data": {
      "text/plain": [
       "tensor([[[0, 0, 0,  ..., 0, 0, 0],\n",
       "         [0, 0, 0,  ..., 0, 0, 0],\n",
       "         [0, 0, 0,  ..., 0, 0, 0],\n",
       "         ...,\n",
       "         [0, 0, 0,  ..., 0, 0, 0],\n",
       "         [0, 0, 0,  ..., 0, 0, 0],\n",
       "         [0, 0, 0,  ..., 0, 0, 0]],\n",
       "\n",
       "        [[0, 0, 0,  ..., 0, 0, 0],\n",
       "         [0, 0, 0,  ..., 0, 0, 0],\n",
       "         [0, 0, 0,  ..., 0, 0, 0],\n",
       "         ...,\n",
       "         [0, 0, 0,  ..., 0, 0, 0],\n",
       "         [0, 0, 0,  ..., 0, 0, 0],\n",
       "         [0, 0, 0,  ..., 0, 0, 0]],\n",
       "\n",
       "        [[0, 0, 0,  ..., 0, 0, 0],\n",
       "         [0, 0, 0,  ..., 0, 0, 0],\n",
       "         [0, 0, 0,  ..., 0, 0, 0],\n",
       "         ...,\n",
       "         [0, 0, 0,  ..., 0, 0, 0],\n",
       "         [0, 0, 0,  ..., 0, 0, 0],\n",
       "         [0, 0, 0,  ..., 0, 0, 0]],\n",
       "\n",
       "        ...,\n",
       "\n",
       "        [[0, 0, 0,  ..., 0, 0, 0],\n",
       "         [0, 0, 0,  ..., 0, 0, 0],\n",
       "         [0, 0, 0,  ..., 0, 0, 0],\n",
       "         ...,\n",
       "         [0, 0, 0,  ..., 0, 0, 0],\n",
       "         [0, 0, 0,  ..., 0, 0, 0],\n",
       "         [0, 0, 0,  ..., 0, 0, 0]],\n",
       "\n",
       "        [[0, 0, 0,  ..., 0, 0, 0],\n",
       "         [0, 0, 0,  ..., 0, 0, 0],\n",
       "         [0, 0, 0,  ..., 0, 0, 0],\n",
       "         ...,\n",
       "         [0, 0, 0,  ..., 0, 0, 0],\n",
       "         [0, 0, 0,  ..., 0, 0, 0],\n",
       "         [0, 0, 0,  ..., 0, 0, 0]],\n",
       "\n",
       "        [[0, 0, 0,  ..., 0, 0, 0],\n",
       "         [0, 0, 0,  ..., 0, 0, 0],\n",
       "         [0, 0, 0,  ..., 0, 0, 0],\n",
       "         ...,\n",
       "         [0, 0, 0,  ..., 0, 0, 0],\n",
       "         [0, 0, 0,  ..., 0, 0, 0],\n",
       "         [0, 0, 0,  ..., 0, 0, 0]]], dtype=torch.uint8)"
      ]
     },
     "execution_count": 24,
     "metadata": {},
     "output_type": "execute_result"
    }
   ],
   "source": [
    "train_data.data"
   ]
  },
  {
   "cell_type": "code",
   "execution_count": 25,
   "metadata": {},
   "outputs": [
    {
     "data": {
      "text/plain": [
       "torch.Size([60000, 28, 28])"
      ]
     },
     "execution_count": 25,
     "metadata": {},
     "output_type": "execute_result"
    }
   ],
   "source": [
    "train_data.data.shape"
   ]
  },
  {
   "cell_type": "code",
   "execution_count": 26,
   "metadata": {},
   "outputs": [
    {
     "data": {
      "text/plain": [
       "torch.Size([10000, 28, 28])"
      ]
     },
     "execution_count": 26,
     "metadata": {},
     "output_type": "execute_result"
    }
   ],
   "source": [
    "test_data.data.shape"
   ]
  },
  {
   "cell_type": "code",
   "execution_count": 27,
   "metadata": {},
   "outputs": [
    {
     "data": {
      "text/plain": [
       "torch.Size([60000])"
      ]
     },
     "execution_count": 27,
     "metadata": {},
     "output_type": "execute_result"
    }
   ],
   "source": [
    "train_data.targets.size()"
   ]
  },
  {
   "cell_type": "code",
   "execution_count": 28,
   "metadata": {},
   "outputs": [
    {
     "data": {
      "text/plain": [
       "tensor([5, 0, 4,  ..., 5, 6, 8])"
      ]
     },
     "execution_count": 28,
     "metadata": {},
     "output_type": "execute_result"
    }
   ],
   "source": [
    "train_data.targets"
   ]
  },
  {
   "cell_type": "code",
   "execution_count": 29,
   "metadata": {},
   "outputs": [],
   "source": [
    "from torch.utils.data import DataLoader\n",
    "\n",
    "loaders = {\n",
    "    'train': DataLoader(train_data, batch_size=100, shuffle=True, num_workers=1),\n",
    "    'test': DataLoader(test_data, batch_size=100, shuffle=True, num_workers=1)\n",
    "}"
   ]
  },
  {
   "cell_type": "code",
   "execution_count": 30,
   "metadata": {},
   "outputs": [
    {
     "data": {
      "text/plain": [
       "{'train': <torch.utils.data.dataloader.DataLoader at 0x175d330e0d0>,\n",
       " 'test': <torch.utils.data.dataloader.DataLoader at 0x175af4cb450>}"
      ]
     },
     "execution_count": 30,
     "metadata": {},
     "output_type": "execute_result"
    }
   ],
   "source": [
    "loaders"
   ]
  },
  {
   "cell_type": "code",
   "execution_count": 31,
   "metadata": {},
   "outputs": [],
   "source": [
    "import torch.nn as nn\n",
    "import torch.nn.functional as F\n",
    "import torch.optim as optim\n",
    "\n",
    "class CNN(nn.Module):\n",
    "    def __init__(self):\n",
    "        super(CNN, self).__init__()\n",
    "        self.conv1 = nn.Conv2d(1, 10, kernel_size=5)\n",
    "        self.conv2 = nn.Conv2d(10, 20, kernel_size=5)\n",
    "        self.conv2_drop = nn.Dropout2d()\n",
    "        self.fc1 = nn.Linear(320, 50)\n",
    "        self.fc2 = nn.Linear(50, 10)\n",
    "\n",
    "    def forward(self, x):\n",
    "        x = F.relu(F.max_pool2d(self.conv1(x), 2))\n",
    "        x = F.relu(F.max_pool2d(self.conv2_drop(self.conv2(x)), 2))\n",
    "        x = x.view(-1, 320)\n",
    "        x = F.relu(self.fc1(x))\n",
    "        x = F.dropout(x, training=self.training)\n",
    "        x = self.fc2(x)\n",
    "        return F.softmax(x)"
   ]
  },
  {
   "cell_type": "code",
   "execution_count": 32,
   "metadata": {},
   "outputs": [],
   "source": [
    "import torch\n",
    "device = torch.device(\"cuda\" if torch.cuda.is_available() else \"cpu\")\n",
    "\n",
    "model = CNN().to(device)\n",
    "\n",
    "optimizer = optim.Adam(model.parameters(), lr=0.01)\n",
    "\n",
    "loss_fn = nn.CrossEntropyLoss()\n",
    "\n",
    "def train(epoch):\n",
    "    model.train()\n",
    "    for batch_idx, (data, target) in enumerate(loaders['train']):\n",
    "        data, target = data.to(device), target.to(device)\n",
    "        optimizer.zero_grad()\n",
    "        output = model(data)\n",
    "        loss = loss_fn(output, target)\n",
    "        loss.backward()\n",
    "        optimizer.step()\n",
    "        if batch_idx % 20 == 0:\n",
    "            print(f'Train Epoch: {epoch} [{batch_idx * len(data)}/{len(loaders[\"train\"].dataset)} ({100. * batch_idx / len(loaders[\"train\"]):.0f}%)]\\tLoss: {loss.item():.6f}')\n",
    "\n",
    "def test():\n",
    "    model.eval()\n",
    "    test_loss = 0\n",
    "    correct = 0\n",
    "    with torch.no_grad():\n",
    "        for data, target in loaders['test']:\n",
    "            data, target = data.to(device), target.to(device)\n",
    "            output = model(data)\n",
    "            test_loss += loss_fn(output, target).item()\n",
    "            pred = output.argmax(dim=1, keepdim=True)\n",
    "            correct += pred.eq(target.view_as(pred)).sum().item()\n",
    "\n",
    "    test_loss /= len(loaders['test'].dataset)\n",
    "    print(f'\\nTest set: Average loss: {test_loss:.4f}, Accuracy: {correct}/{len(loaders[\"test\"].dataset)} ({100. * correct / len(loaders[\"test\"].dataset):.0f}%)\\n')    "
   ]
  },
  {
   "cell_type": "code",
   "execution_count": 33,
   "metadata": {},
   "outputs": [
    {
     "data": {
      "text/plain": [
       "device(type='cuda')"
      ]
     },
     "execution_count": 33,
     "metadata": {},
     "output_type": "execute_result"
    }
   ],
   "source": [
    "device"
   ]
  },
  {
   "cell_type": "code",
   "execution_count": 34,
   "metadata": {},
   "outputs": [
    {
     "name": "stderr",
     "output_type": "stream",
     "text": [
      "C:\\Users\\dhruv\\AppData\\Local\\Temp\\ipykernel_28024\\2530090726.py:21: UserWarning: Implicit dimension choice for softmax has been deprecated. Change the call to include dim=X as an argument.\n",
      "  return F.softmax(x)\n"
     ]
    },
    {
     "name": "stdout",
     "output_type": "stream",
     "text": [
      "Train Epoch: 1 [0/60000 (0%)]\tLoss: 2.302352\n",
      "Train Epoch: 1 [2000/60000 (3%)]\tLoss: 1.992171\n",
      "Train Epoch: 1 [4000/60000 (7%)]\tLoss: 1.902504\n",
      "Train Epoch: 1 [6000/60000 (10%)]\tLoss: 1.786959\n",
      "Train Epoch: 1 [8000/60000 (13%)]\tLoss: 1.813695\n",
      "Train Epoch: 1 [10000/60000 (17%)]\tLoss: 1.695661\n",
      "Train Epoch: 1 [12000/60000 (20%)]\tLoss: 1.688828\n",
      "Train Epoch: 1 [14000/60000 (23%)]\tLoss: 1.745496\n",
      "Train Epoch: 1 [16000/60000 (27%)]\tLoss: 1.772035\n",
      "Train Epoch: 1 [18000/60000 (30%)]\tLoss: 1.770497\n",
      "Train Epoch: 1 [20000/60000 (33%)]\tLoss: 1.676356\n",
      "Train Epoch: 1 [22000/60000 (37%)]\tLoss: 1.779839\n",
      "Train Epoch: 1 [24000/60000 (40%)]\tLoss: 1.678690\n",
      "Train Epoch: 1 [26000/60000 (43%)]\tLoss: 1.642342\n",
      "Train Epoch: 1 [28000/60000 (47%)]\tLoss: 1.731892\n",
      "Train Epoch: 1 [30000/60000 (50%)]\tLoss: 1.721434\n",
      "Train Epoch: 1 [32000/60000 (53%)]\tLoss: 1.715884\n",
      "Train Epoch: 1 [34000/60000 (57%)]\tLoss: 1.659537\n",
      "Train Epoch: 1 [36000/60000 (60%)]\tLoss: 1.699500\n",
      "Train Epoch: 1 [38000/60000 (63%)]\tLoss: 1.767557\n",
      "Train Epoch: 1 [40000/60000 (67%)]\tLoss: 1.671350\n",
      "Train Epoch: 1 [42000/60000 (70%)]\tLoss: 1.792088\n",
      "Train Epoch: 1 [44000/60000 (73%)]\tLoss: 1.755714\n",
      "Train Epoch: 1 [46000/60000 (77%)]\tLoss: 1.810428\n",
      "Train Epoch: 1 [48000/60000 (80%)]\tLoss: 1.699073\n",
      "Train Epoch: 1 [50000/60000 (83%)]\tLoss: 1.714787\n",
      "Train Epoch: 1 [52000/60000 (87%)]\tLoss: 1.744923\n",
      "Train Epoch: 1 [54000/60000 (90%)]\tLoss: 1.663077\n",
      "Train Epoch: 1 [56000/60000 (93%)]\tLoss: 1.704972\n",
      "Train Epoch: 1 [58000/60000 (97%)]\tLoss: 1.740727\n",
      "\n",
      "Test set: Average loss: 0.0162, Accuracy: 8438/10000 (84%)\n",
      "\n",
      "Train Epoch: 2 [0/60000 (0%)]\tLoss: 1.741770\n",
      "Train Epoch: 2 [2000/60000 (3%)]\tLoss: 1.770781\n",
      "Train Epoch: 2 [4000/60000 (7%)]\tLoss: 1.701010\n",
      "Train Epoch: 2 [6000/60000 (10%)]\tLoss: 1.686394\n",
      "Train Epoch: 2 [8000/60000 (13%)]\tLoss: 1.771139\n",
      "Train Epoch: 2 [10000/60000 (17%)]\tLoss: 1.781270\n",
      "Train Epoch: 2 [12000/60000 (20%)]\tLoss: 1.713390\n",
      "Train Epoch: 2 [14000/60000 (23%)]\tLoss: 1.661303\n",
      "Train Epoch: 2 [16000/60000 (27%)]\tLoss: 1.700585\n",
      "Train Epoch: 2 [18000/60000 (30%)]\tLoss: 1.670062\n",
      "Train Epoch: 2 [20000/60000 (33%)]\tLoss: 1.720010\n",
      "Train Epoch: 2 [22000/60000 (37%)]\tLoss: 1.739402\n",
      "Train Epoch: 2 [24000/60000 (40%)]\tLoss: 1.740703\n",
      "Train Epoch: 2 [26000/60000 (43%)]\tLoss: 1.745008\n",
      "Train Epoch: 2 [28000/60000 (47%)]\tLoss: 1.772124\n",
      "Train Epoch: 2 [30000/60000 (50%)]\tLoss: 1.753238\n",
      "Train Epoch: 2 [32000/60000 (53%)]\tLoss: 1.846665\n",
      "Train Epoch: 2 [34000/60000 (57%)]\tLoss: 1.724666\n",
      "Train Epoch: 2 [36000/60000 (60%)]\tLoss: 1.858676\n",
      "Train Epoch: 2 [38000/60000 (63%)]\tLoss: 1.761781\n",
      "Train Epoch: 2 [40000/60000 (67%)]\tLoss: 1.721169\n",
      "Train Epoch: 2 [42000/60000 (70%)]\tLoss: 1.640524\n",
      "Train Epoch: 2 [44000/60000 (73%)]\tLoss: 1.701678\n",
      "Train Epoch: 2 [46000/60000 (77%)]\tLoss: 1.670664\n",
      "Train Epoch: 2 [48000/60000 (80%)]\tLoss: 1.681150\n",
      "Train Epoch: 2 [50000/60000 (83%)]\tLoss: 1.748205\n",
      "Train Epoch: 2 [52000/60000 (87%)]\tLoss: 1.690116\n",
      "Train Epoch: 2 [54000/60000 (90%)]\tLoss: 1.703333\n",
      "Train Epoch: 2 [56000/60000 (93%)]\tLoss: 1.692354\n",
      "Train Epoch: 2 [58000/60000 (97%)]\tLoss: 1.697471\n",
      "\n",
      "Test set: Average loss: 0.0156, Accuracy: 8997/10000 (90%)\n",
      "\n",
      "Train Epoch: 3 [0/60000 (0%)]\tLoss: 1.739552\n",
      "Train Epoch: 3 [2000/60000 (3%)]\tLoss: 1.785366\n",
      "Train Epoch: 3 [4000/60000 (7%)]\tLoss: 1.716307\n",
      "Train Epoch: 3 [6000/60000 (10%)]\tLoss: 1.701171\n",
      "Train Epoch: 3 [8000/60000 (13%)]\tLoss: 1.700888\n",
      "Train Epoch: 3 [10000/60000 (17%)]\tLoss: 1.711059\n",
      "Train Epoch: 3 [12000/60000 (20%)]\tLoss: 1.697244\n",
      "Train Epoch: 3 [14000/60000 (23%)]\tLoss: 1.722323\n",
      "Train Epoch: 3 [16000/60000 (27%)]\tLoss: 1.620856\n",
      "Train Epoch: 3 [18000/60000 (30%)]\tLoss: 1.641153\n",
      "Train Epoch: 3 [20000/60000 (33%)]\tLoss: 1.761122\n",
      "Train Epoch: 3 [22000/60000 (37%)]\tLoss: 1.785754\n",
      "Train Epoch: 3 [24000/60000 (40%)]\tLoss: 1.703261\n",
      "Train Epoch: 3 [26000/60000 (43%)]\tLoss: 1.765638\n",
      "Train Epoch: 3 [28000/60000 (47%)]\tLoss: 1.811298\n",
      "Train Epoch: 3 [30000/60000 (50%)]\tLoss: 1.771407\n",
      "Train Epoch: 3 [32000/60000 (53%)]\tLoss: 1.695512\n",
      "Train Epoch: 3 [34000/60000 (57%)]\tLoss: 1.771152\n",
      "Train Epoch: 3 [36000/60000 (60%)]\tLoss: 1.750797\n",
      "Train Epoch: 3 [38000/60000 (63%)]\tLoss: 1.705788\n",
      "Train Epoch: 3 [40000/60000 (67%)]\tLoss: 1.712037\n",
      "Train Epoch: 3 [42000/60000 (70%)]\tLoss: 1.726884\n",
      "Train Epoch: 3 [44000/60000 (73%)]\tLoss: 1.771144\n",
      "Train Epoch: 3 [46000/60000 (77%)]\tLoss: 1.760889\n",
      "Train Epoch: 3 [48000/60000 (80%)]\tLoss: 1.717810\n",
      "Train Epoch: 3 [50000/60000 (83%)]\tLoss: 1.641151\n",
      "Train Epoch: 3 [52000/60000 (87%)]\tLoss: 1.716397\n",
      "Train Epoch: 3 [54000/60000 (90%)]\tLoss: 1.781102\n",
      "Train Epoch: 3 [56000/60000 (93%)]\tLoss: 1.740968\n",
      "Train Epoch: 3 [58000/60000 (97%)]\tLoss: 1.741164\n",
      "\n",
      "Test set: Average loss: 0.0156, Accuracy: 9009/10000 (90%)\n",
      "\n",
      "Train Epoch: 4 [0/60000 (0%)]\tLoss: 1.700899\n",
      "Train Epoch: 4 [2000/60000 (3%)]\tLoss: 1.711257\n",
      "Train Epoch: 4 [4000/60000 (7%)]\tLoss: 1.681154\n",
      "Train Epoch: 4 [6000/60000 (10%)]\tLoss: 1.677089\n",
      "Train Epoch: 4 [8000/60000 (13%)]\tLoss: 1.751151\n",
      "Train Epoch: 4 [10000/60000 (17%)]\tLoss: 1.741151\n",
      "Train Epoch: 4 [12000/60000 (20%)]\tLoss: 1.661151\n",
      "Train Epoch: 4 [14000/60000 (23%)]\tLoss: 1.837481\n",
      "Train Epoch: 4 [16000/60000 (27%)]\tLoss: 1.921151\n",
      "Train Epoch: 4 [18000/60000 (30%)]\tLoss: 1.741155\n",
      "Train Epoch: 4 [20000/60000 (33%)]\tLoss: 1.732351\n",
      "Train Epoch: 4 [22000/60000 (37%)]\tLoss: 1.680983\n",
      "Train Epoch: 4 [24000/60000 (40%)]\tLoss: 1.650925\n",
      "Train Epoch: 4 [26000/60000 (43%)]\tLoss: 1.731151\n",
      "Train Epoch: 4 [28000/60000 (47%)]\tLoss: 1.781151\n",
      "Train Epoch: 4 [30000/60000 (50%)]\tLoss: 1.691151\n",
      "Train Epoch: 4 [32000/60000 (53%)]\tLoss: 1.670940\n",
      "Train Epoch: 4 [34000/60000 (57%)]\tLoss: 1.687102\n",
      "Train Epoch: 4 [36000/60000 (60%)]\tLoss: 1.772153\n",
      "Train Epoch: 4 [38000/60000 (63%)]\tLoss: 1.721151\n",
      "Train Epoch: 4 [40000/60000 (67%)]\tLoss: 1.821151\n",
      "Train Epoch: 4 [42000/60000 (70%)]\tLoss: 1.769818\n",
      "Train Epoch: 4 [44000/60000 (73%)]\tLoss: 1.741150\n",
      "Train Epoch: 4 [46000/60000 (77%)]\tLoss: 1.711135\n",
      "Train Epoch: 4 [48000/60000 (80%)]\tLoss: 1.721151\n",
      "Train Epoch: 4 [50000/60000 (83%)]\tLoss: 1.801151\n",
      "Train Epoch: 4 [52000/60000 (87%)]\tLoss: 1.781151\n",
      "Train Epoch: 4 [54000/60000 (90%)]\tLoss: 1.761143\n",
      "Train Epoch: 4 [56000/60000 (93%)]\tLoss: 1.811151\n",
      "Train Epoch: 4 [58000/60000 (97%)]\tLoss: 1.711146\n",
      "\n",
      "Test set: Average loss: 0.0163, Accuracy: 8351/10000 (84%)\n",
      "\n",
      "Train Epoch: 5 [0/60000 (0%)]\tLoss: 1.727740\n",
      "Train Epoch: 5 [2000/60000 (3%)]\tLoss: 1.761143\n",
      "Train Epoch: 5 [4000/60000 (7%)]\tLoss: 1.861151\n",
      "Train Epoch: 5 [6000/60000 (10%)]\tLoss: 1.790964\n",
      "Train Epoch: 5 [8000/60000 (13%)]\tLoss: 1.891126\n",
      "Train Epoch: 5 [10000/60000 (17%)]\tLoss: 1.851151\n",
      "Train Epoch: 5 [12000/60000 (20%)]\tLoss: 1.958401\n",
      "Train Epoch: 5 [14000/60000 (23%)]\tLoss: 1.841150\n",
      "Train Epoch: 5 [16000/60000 (27%)]\tLoss: 1.734374\n",
      "Train Epoch: 5 [18000/60000 (30%)]\tLoss: 1.781162\n",
      "Train Epoch: 5 [20000/60000 (33%)]\tLoss: 1.831151\n",
      "Train Epoch: 5 [22000/60000 (37%)]\tLoss: 1.791144\n",
      "Train Epoch: 5 [24000/60000 (40%)]\tLoss: 1.831112\n",
      "Train Epoch: 5 [26000/60000 (43%)]\tLoss: 1.831151\n",
      "Train Epoch: 5 [28000/60000 (47%)]\tLoss: 1.761151\n",
      "Train Epoch: 5 [30000/60000 (50%)]\tLoss: 1.791150\n",
      "Train Epoch: 5 [32000/60000 (53%)]\tLoss: 1.871237\n",
      "Train Epoch: 5 [34000/60000 (57%)]\tLoss: 1.771151\n",
      "Train Epoch: 5 [36000/60000 (60%)]\tLoss: 1.751822\n",
      "Train Epoch: 5 [38000/60000 (63%)]\tLoss: 1.911151\n",
      "Train Epoch: 5 [40000/60000 (67%)]\tLoss: 1.820305\n",
      "Train Epoch: 5 [42000/60000 (70%)]\tLoss: 1.764838\n",
      "Train Epoch: 5 [44000/60000 (73%)]\tLoss: 1.861150\n",
      "Train Epoch: 5 [46000/60000 (77%)]\tLoss: 1.841151\n",
      "Train Epoch: 5 [48000/60000 (80%)]\tLoss: 1.851295\n",
      "Train Epoch: 5 [50000/60000 (83%)]\tLoss: 1.761151\n",
      "Train Epoch: 5 [52000/60000 (87%)]\tLoss: 1.841145\n",
      "Train Epoch: 5 [54000/60000 (90%)]\tLoss: 1.781096\n",
      "Train Epoch: 5 [56000/60000 (93%)]\tLoss: 1.831151\n",
      "Train Epoch: 5 [58000/60000 (97%)]\tLoss: 1.751151\n",
      "\n",
      "Test set: Average loss: 0.0163, Accuracy: 8294/10000 (83%)\n",
      "\n",
      "Train Epoch: 6 [0/60000 (0%)]\tLoss: 1.761151\n",
      "Train Epoch: 6 [2000/60000 (3%)]\tLoss: 1.781162\n",
      "Train Epoch: 6 [4000/60000 (7%)]\tLoss: 1.751527\n",
      "Train Epoch: 6 [6000/60000 (10%)]\tLoss: 1.641151\n",
      "Train Epoch: 6 [8000/60000 (13%)]\tLoss: 1.871151\n",
      "Train Epoch: 6 [10000/60000 (17%)]\tLoss: 1.771151\n",
      "Train Epoch: 6 [12000/60000 (20%)]\tLoss: 1.818015\n",
      "Train Epoch: 6 [14000/60000 (23%)]\tLoss: 1.801151\n",
      "Train Epoch: 6 [16000/60000 (27%)]\tLoss: 1.781151\n",
      "Train Epoch: 6 [18000/60000 (30%)]\tLoss: 1.711151\n",
      "Train Epoch: 6 [20000/60000 (33%)]\tLoss: 1.781165\n",
      "Train Epoch: 6 [22000/60000 (37%)]\tLoss: 1.791151\n",
      "Train Epoch: 6 [24000/60000 (40%)]\tLoss: 1.887910\n",
      "Train Epoch: 6 [26000/60000 (43%)]\tLoss: 1.721180\n",
      "Train Epoch: 6 [28000/60000 (47%)]\tLoss: 1.711151\n",
      "Train Epoch: 6 [30000/60000 (50%)]\tLoss: 1.771151\n",
      "Train Epoch: 6 [32000/60000 (53%)]\tLoss: 1.771151\n",
      "Train Epoch: 6 [34000/60000 (57%)]\tLoss: 1.681151\n",
      "Train Epoch: 6 [36000/60000 (60%)]\tLoss: 1.751151\n",
      "Train Epoch: 6 [38000/60000 (63%)]\tLoss: 1.771093\n",
      "Train Epoch: 6 [40000/60000 (67%)]\tLoss: 1.780970\n",
      "Train Epoch: 6 [42000/60000 (70%)]\tLoss: 1.757718\n",
      "Train Epoch: 6 [44000/60000 (73%)]\tLoss: 1.831151\n",
      "Train Epoch: 6 [46000/60000 (77%)]\tLoss: 1.811151\n",
      "Train Epoch: 6 [48000/60000 (80%)]\tLoss: 1.771151\n",
      "Train Epoch: 6 [50000/60000 (83%)]\tLoss: 1.791151\n",
      "Train Epoch: 6 [52000/60000 (87%)]\tLoss: 1.861151\n",
      "Train Epoch: 6 [54000/60000 (90%)]\tLoss: 1.811151\n",
      "Train Epoch: 6 [56000/60000 (93%)]\tLoss: 1.791151\n",
      "Train Epoch: 6 [58000/60000 (97%)]\tLoss: 1.821151\n",
      "\n",
      "Test set: Average loss: 0.0161, Accuracy: 8486/10000 (85%)\n",
      "\n",
      "Train Epoch: 7 [0/60000 (0%)]\tLoss: 1.771151\n",
      "Train Epoch: 7 [2000/60000 (3%)]\tLoss: 1.881151\n",
      "Train Epoch: 7 [4000/60000 (7%)]\tLoss: 1.801145\n",
      "Train Epoch: 7 [6000/60000 (10%)]\tLoss: 1.841151\n",
      "Train Epoch: 7 [8000/60000 (13%)]\tLoss: 1.851147\n",
      "Train Epoch: 7 [10000/60000 (17%)]\tLoss: 1.910808\n",
      "Train Epoch: 7 [12000/60000 (20%)]\tLoss: 1.811151\n",
      "Train Epoch: 7 [14000/60000 (23%)]\tLoss: 1.851149\n",
      "Train Epoch: 7 [16000/60000 (27%)]\tLoss: 1.911150\n",
      "Train Epoch: 7 [18000/60000 (30%)]\tLoss: 1.980738\n",
      "Train Epoch: 7 [20000/60000 (33%)]\tLoss: 1.821151\n",
      "Train Epoch: 7 [22000/60000 (37%)]\tLoss: 1.851151\n",
      "Train Epoch: 7 [24000/60000 (40%)]\tLoss: 1.731151\n",
      "Train Epoch: 7 [26000/60000 (43%)]\tLoss: 1.771150\n",
      "Train Epoch: 7 [28000/60000 (47%)]\tLoss: 1.831147\n",
      "Train Epoch: 7 [30000/60000 (50%)]\tLoss: 1.751151\n",
      "Train Epoch: 7 [32000/60000 (53%)]\tLoss: 1.951151\n",
      "Train Epoch: 7 [34000/60000 (57%)]\tLoss: 1.873485\n",
      "Train Epoch: 7 [36000/60000 (60%)]\tLoss: 1.941151\n",
      "Train Epoch: 7 [38000/60000 (63%)]\tLoss: 1.891151\n",
      "Train Epoch: 7 [40000/60000 (67%)]\tLoss: 1.901223\n",
      "Train Epoch: 7 [42000/60000 (70%)]\tLoss: 1.931151\n",
      "Train Epoch: 7 [44000/60000 (73%)]\tLoss: 1.851151\n",
      "Train Epoch: 7 [46000/60000 (77%)]\tLoss: 1.880976\n",
      "Train Epoch: 7 [48000/60000 (80%)]\tLoss: 1.851148\n",
      "Train Epoch: 7 [50000/60000 (83%)]\tLoss: 1.812418\n",
      "Train Epoch: 7 [52000/60000 (87%)]\tLoss: 1.791151\n",
      "Train Epoch: 7 [54000/60000 (90%)]\tLoss: 1.751174\n",
      "Train Epoch: 7 [56000/60000 (93%)]\tLoss: 1.801151\n",
      "Train Epoch: 7 [58000/60000 (97%)]\tLoss: 1.861120\n",
      "\n",
      "Test set: Average loss: 0.0160, Accuracy: 8634/10000 (86%)\n",
      "\n",
      "Train Epoch: 8 [0/60000 (0%)]\tLoss: 1.781151\n",
      "Train Epoch: 8 [2000/60000 (3%)]\tLoss: 1.836971\n",
      "Train Epoch: 8 [4000/60000 (7%)]\tLoss: 1.870700\n",
      "Train Epoch: 8 [6000/60000 (10%)]\tLoss: 1.791151\n",
      "Train Epoch: 8 [8000/60000 (13%)]\tLoss: 1.831151\n",
      "Train Epoch: 8 [10000/60000 (17%)]\tLoss: 1.681515\n",
      "Train Epoch: 8 [12000/60000 (20%)]\tLoss: 1.852010\n",
      "Train Epoch: 8 [14000/60000 (23%)]\tLoss: 1.831151\n",
      "Train Epoch: 8 [16000/60000 (27%)]\tLoss: 1.791151\n",
      "Train Epoch: 8 [18000/60000 (30%)]\tLoss: 1.761151\n",
      "Train Epoch: 8 [20000/60000 (33%)]\tLoss: 1.751148\n",
      "Train Epoch: 8 [22000/60000 (37%)]\tLoss: 1.801220\n",
      "Train Epoch: 8 [24000/60000 (40%)]\tLoss: 1.731151\n",
      "Train Epoch: 8 [26000/60000 (43%)]\tLoss: 1.831151\n",
      "Train Epoch: 8 [28000/60000 (47%)]\tLoss: 1.762673\n",
      "Train Epoch: 8 [30000/60000 (50%)]\tLoss: 1.741151\n",
      "Train Epoch: 8 [32000/60000 (53%)]\tLoss: 1.721151\n",
      "Train Epoch: 8 [34000/60000 (57%)]\tLoss: 1.781151\n",
      "Train Epoch: 8 [36000/60000 (60%)]\tLoss: 1.701151\n",
      "Train Epoch: 8 [38000/60000 (63%)]\tLoss: 1.741151\n",
      "Train Epoch: 8 [40000/60000 (67%)]\tLoss: 1.781151\n",
      "Train Epoch: 8 [42000/60000 (70%)]\tLoss: 1.791276\n",
      "Train Epoch: 8 [44000/60000 (73%)]\tLoss: 1.841151\n",
      "Train Epoch: 8 [46000/60000 (77%)]\tLoss: 1.890950\n",
      "Train Epoch: 8 [48000/60000 (80%)]\tLoss: 1.881151\n",
      "Train Epoch: 8 [50000/60000 (83%)]\tLoss: 1.921151\n",
      "Train Epoch: 8 [52000/60000 (87%)]\tLoss: 1.921141\n",
      "Train Epoch: 8 [54000/60000 (90%)]\tLoss: 1.910836\n",
      "Train Epoch: 8 [56000/60000 (93%)]\tLoss: 1.861151\n",
      "Train Epoch: 8 [58000/60000 (97%)]\tLoss: 1.871151\n",
      "\n",
      "Test set: Average loss: 0.0169, Accuracy: 7711/10000 (77%)\n",
      "\n",
      "Train Epoch: 9 [0/60000 (0%)]\tLoss: 1.851151\n",
      "Train Epoch: 9 [2000/60000 (3%)]\tLoss: 1.911133\n",
      "Train Epoch: 9 [4000/60000 (7%)]\tLoss: 1.821151\n",
      "Train Epoch: 9 [6000/60000 (10%)]\tLoss: 1.851151\n",
      "Train Epoch: 9 [8000/60000 (13%)]\tLoss: 1.811053\n",
      "Train Epoch: 9 [10000/60000 (17%)]\tLoss: 1.811151\n",
      "Train Epoch: 9 [12000/60000 (20%)]\tLoss: 1.841151\n",
      "Train Epoch: 9 [14000/60000 (23%)]\tLoss: 1.821151\n",
      "Train Epoch: 9 [16000/60000 (27%)]\tLoss: 1.762442\n",
      "Train Epoch: 9 [18000/60000 (30%)]\tLoss: 1.801151\n",
      "Train Epoch: 9 [20000/60000 (33%)]\tLoss: 1.811151\n",
      "Train Epoch: 9 [22000/60000 (37%)]\tLoss: 1.761151\n",
      "Train Epoch: 9 [24000/60000 (40%)]\tLoss: 1.881151\n",
      "Train Epoch: 9 [26000/60000 (43%)]\tLoss: 1.821150\n",
      "Train Epoch: 9 [28000/60000 (47%)]\tLoss: 1.861151\n",
      "Train Epoch: 9 [30000/60000 (50%)]\tLoss: 1.851151\n",
      "Train Epoch: 9 [32000/60000 (53%)]\tLoss: 1.771107\n",
      "Train Epoch: 9 [34000/60000 (57%)]\tLoss: 1.811151\n",
      "Train Epoch: 9 [36000/60000 (60%)]\tLoss: 1.781151\n",
      "Train Epoch: 9 [38000/60000 (63%)]\tLoss: 1.841148\n",
      "Train Epoch: 9 [40000/60000 (67%)]\tLoss: 1.851036\n",
      "Train Epoch: 9 [42000/60000 (70%)]\tLoss: 1.781151\n",
      "Train Epoch: 9 [44000/60000 (73%)]\tLoss: 1.921151\n",
      "Train Epoch: 9 [46000/60000 (77%)]\tLoss: 1.851151\n",
      "Train Epoch: 9 [48000/60000 (80%)]\tLoss: 1.871151\n",
      "Train Epoch: 9 [50000/60000 (83%)]\tLoss: 1.741151\n",
      "Train Epoch: 9 [52000/60000 (87%)]\tLoss: 1.871150\n",
      "Train Epoch: 9 [54000/60000 (90%)]\tLoss: 1.881151\n",
      "Train Epoch: 9 [56000/60000 (93%)]\tLoss: 1.851151\n",
      "Train Epoch: 9 [58000/60000 (97%)]\tLoss: 1.811151\n",
      "\n",
      "Test set: Average loss: 0.0160, Accuracy: 8623/10000 (86%)\n",
      "\n",
      "Train Epoch: 10 [0/60000 (0%)]\tLoss: 1.771150\n",
      "Train Epoch: 10 [2000/60000 (3%)]\tLoss: 1.800924\n",
      "Train Epoch: 10 [4000/60000 (7%)]\tLoss: 1.771151\n",
      "Train Epoch: 10 [6000/60000 (10%)]\tLoss: 1.771151\n",
      "Train Epoch: 10 [8000/60000 (13%)]\tLoss: 1.851151\n",
      "Train Epoch: 10 [10000/60000 (17%)]\tLoss: 1.871151\n",
      "Train Epoch: 10 [12000/60000 (20%)]\tLoss: 1.841151\n",
      "Train Epoch: 10 [14000/60000 (23%)]\tLoss: 1.821134\n",
      "Train Epoch: 10 [16000/60000 (27%)]\tLoss: 1.851151\n",
      "Train Epoch: 10 [18000/60000 (30%)]\tLoss: 1.781151\n",
      "Train Epoch: 10 [20000/60000 (33%)]\tLoss: 1.820705\n",
      "Train Epoch: 10 [22000/60000 (37%)]\tLoss: 1.801151\n",
      "Train Epoch: 10 [24000/60000 (40%)]\tLoss: 1.771154\n",
      "Train Epoch: 10 [26000/60000 (43%)]\tLoss: 1.931625\n",
      "Train Epoch: 10 [28000/60000 (47%)]\tLoss: 1.851151\n",
      "Train Epoch: 10 [30000/60000 (50%)]\tLoss: 1.751151\n",
      "Train Epoch: 10 [32000/60000 (53%)]\tLoss: 1.911151\n",
      "Train Epoch: 10 [34000/60000 (57%)]\tLoss: 1.841123\n",
      "Train Epoch: 10 [36000/60000 (60%)]\tLoss: 1.821151\n",
      "Train Epoch: 10 [38000/60000 (63%)]\tLoss: 1.901163\n",
      "Train Epoch: 10 [40000/60000 (67%)]\tLoss: 1.871151\n",
      "Train Epoch: 10 [42000/60000 (70%)]\tLoss: 1.841151\n",
      "Train Epoch: 10 [44000/60000 (73%)]\tLoss: 1.861151\n",
      "Train Epoch: 10 [46000/60000 (77%)]\tLoss: 1.901149\n",
      "Train Epoch: 10 [48000/60000 (80%)]\tLoss: 1.831151\n",
      "Train Epoch: 10 [50000/60000 (83%)]\tLoss: 1.961151\n",
      "Train Epoch: 10 [52000/60000 (87%)]\tLoss: 1.851151\n",
      "Train Epoch: 10 [54000/60000 (90%)]\tLoss: 1.881151\n",
      "Train Epoch: 10 [56000/60000 (93%)]\tLoss: 1.781151\n",
      "Train Epoch: 10 [58000/60000 (97%)]\tLoss: 1.861151\n",
      "\n",
      "Test set: Average loss: 0.0162, Accuracy: 8385/10000 (84%)\n",
      "\n"
     ]
    }
   ],
   "source": [
    "for epoch in range(1, 11):\n",
    "    train(epoch)\n",
    "    test()"
   ]
  },
  {
   "cell_type": "code",
   "execution_count": 35,
   "metadata": {},
   "outputs": [
    {
     "data": {
      "text/plain": [
       "device(type='cuda')"
      ]
     },
     "execution_count": 35,
     "metadata": {},
     "output_type": "execute_result"
    }
   ],
   "source": [
    "device"
   ]
  },
  {
   "cell_type": "code",
   "execution_count": 36,
   "metadata": {},
   "outputs": [
    {
     "name": "stdout",
     "output_type": "stream",
     "text": [
      "Prediction: 2\n"
     ]
    },
    {
     "name": "stderr",
     "output_type": "stream",
     "text": [
      "C:\\Users\\dhruv\\AppData\\Local\\Temp\\ipykernel_28024\\2530090726.py:21: UserWarning: Implicit dimension choice for softmax has been deprecated. Change the call to include dim=X as an argument.\n",
      "  return F.softmax(x)\n"
     ]
    },
    {
     "data": {
      "image/png": "[encoded data removed]",
      "text/plain": [
       "<Figure size 640x480 with 1 Axes>"
      ]
     },
     "metadata": {},
     "output_type": "display_data"
    }
   ],
   "source": [
    "import  matplotlib.pyplot as plt\n",
    "\n",
    "model.eval()\n",
    "\n",
    "data, target = test_data[1]\n",
    "\n",
    "data = data.unsqueeze(0).to(device)\n",
    "\n",
    "output = model(data)\n",
    "\n",
    "prediction = output.argmax(dim=1, keepdim=True).item()\n",
    "\n",
    "print(f'Prediction: {prediction}')\n",
    "\n",
    "image = data.squeeze(0).squeeze(0).cpu().numpy()\n",
    "\n",
    "plt.imshow(image, cmap='gray')\n",
    "plt.show()"
   ]
  },
  {
   "cell_type": "code",
   "execution_count": 37,
   "metadata": {},
   "outputs": [
    {
     "data": {
      "text/plain": [
       "(tensor([[[0.0000, 0.0000, 0.0000, 0.0000, 0.0000, 0.0000, 0.0000, 0.0000,\n",
       "           0.0000, 0.0000, 0.0000, 0.0000, 0.0000, 0.0000, 0.0000, 0.0000,\n",
       "           0.0000, 0.0000, 0.0000, 0.0000, 0.0000, 0.0000, 0.0000, 0.0000,\n",
       "           0.0000, 0.0000, 0.0000, 0.0000],\n",
       "          [0.0000, 0.0000, 0.0000, 0.0000, 0.0000, 0.0000, 0.0000, 0.0000,\n",
       "           0.0000, 0.0000, 0.0000, 0.0000, 0.0000, 0.0000, 0.0000, 0.0000,\n",
       "           0.0000, 0.0000, 0.0000, 0.0000, 0.0000, 0.0000, 0.0000, 0.0000,\n",
       "           0.0000, 0.0000, 0.0000, 0.0000],\n",
       "          [0.0000, 0.0000, 0.0000, 0.0000, 0.0000, 0.0000, 0.0000, 0.0000,\n",
       "           0.0000, 0.0000, 0.0000, 0.0000, 0.0000, 0.0000, 0.0000, 0.0000,\n",
       "           0.0000, 0.0000, 0.0000, 0.0000, 0.0000, 0.0000, 0.0000, 0.0000,\n",
       "           0.0000, 0.0000, 0.0000, 0.0000],\n",
       "          [0.0000, 0.0000, 0.0000, 0.0000, 0.0000, 0.0000, 0.0000, 0.0000,\n",
       "           0.0000, 0.0000, 0.4549, 0.4902, 0.6706, 1.0000, 1.0000, 0.5882,\n",
       "           0.3647, 0.0000, 0.0000, 0.0000, 0.0000, 0.0000, 0.0000, 0.0000,\n",
       "           0.0000, 0.0000, 0.0000, 0.0000],\n",
       "          [0.0000, 0.0000, 0.0000, 0.0000, 0.0000, 0.0000, 0.0000, 0.0000,\n",
       "           0.0000, 0.6627, 0.9922, 0.9922, 0.9922, 0.9922, 0.9922, 0.9922,\n",
       "           0.8549, 0.1176, 0.0000, 0.0000, 0.0000, 0.0000, 0.0000, 0.0000,\n",
       "           0.0000, 0.0000, 0.0000, 0.0000],\n",
       "          [0.0000, 0.0000, 0.0000, 0.0000, 0.0000, 0.0000, 0.0000, 0.0000,\n",
       "           0.6627, 0.9922, 0.9922, 0.9922, 0.8353, 0.5569, 0.6902, 0.9922,\n",
       "           0.9922, 0.4784, 0.0000, 0.0000, 0.0000, 0.0000, 0.0000, 0.0000,\n",
       "           0.0000, 0.0000, 0.0000, 0.0000],\n",
       "          [0.0000, 0.0000, 0.0000, 0.0000, 0.0000, 0.0000, 0.0000, 0.2039,\n",
       "           0.9804, 0.9922, 0.8235, 0.1255, 0.0471, 0.0000, 0.0235, 0.8078,\n",
       "           0.9922, 0.5490, 0.0000, 0.0000, 0.0000, 0.0000, 0.0000, 0.0000,\n",
       "           0.0000, 0.0000, 0.0000, 0.0000],\n",
       "          [0.0000, 0.0000, 0.0000, 0.0000, 0.0000, 0.0000, 0.0000, 0.3020,\n",
       "           0.9843, 0.8235, 0.0980, 0.0000, 0.0000, 0.0000, 0.4784, 0.9725,\n",
       "           0.9922, 0.2549, 0.0000, 0.0000, 0.0000, 0.0000, 0.0000, 0.0000,\n",
       "           0.0000, 0.0000, 0.0000, 0.0000],\n",
       "          [0.0000, 0.0000, 0.0000, 0.0000, 0.0000, 0.0000, 0.0000, 0.0000,\n",
       "           0.1216, 0.0706, 0.0000, 0.0000, 0.0000, 0.0000, 0.8196, 0.9922,\n",
       "           0.9922, 0.2549, 0.0000, 0.0000, 0.0000, 0.0000, 0.0000, 0.0000,\n",
       "           0.0000, 0.0000, 0.0000, 0.0000],\n",
       "          [0.0000, 0.0000, 0.0000, 0.0000, 0.0000, 0.0000, 0.0000, 0.0000,\n",
       "           0.0000, 0.0000, 0.0000, 0.0000, 0.0000, 0.4588, 0.9686, 0.9922,\n",
       "           0.7765, 0.0392, 0.0000, 0.0000, 0.0000, 0.0000, 0.0000, 0.0000,\n",
       "           0.0000, 0.0000, 0.0000, 0.0000],\n",
       "          [0.0000, 0.0000, 0.0000, 0.0000, 0.0000, 0.0000, 0.0000, 0.0000,\n",
       "           0.0000, 0.0000, 0.0000, 0.0000, 0.2980, 0.9686, 0.9922, 0.9059,\n",
       "           0.2471, 0.0000, 0.0000, 0.0000, 0.0000, 0.0000, 0.0000, 0.0000,\n",
       "           0.0000, 0.0000, 0.0000, 0.0000],\n",
       "          [0.0000, 0.0000, 0.0000, 0.0000, 0.0000, 0.0000, 0.0000, 0.0000,\n",
       "           0.0000, 0.0000, 0.0000, 0.0000, 0.5020, 0.9922, 0.9922, 0.5647,\n",
       "           0.0000, 0.0000, 0.0000, 0.0000, 0.0000, 0.0000, 0.0000, 0.0000,\n",
       "           0.0000, 0.0000, 0.0000, 0.0000],\n",
       "          [0.0000, 0.0000, 0.0000, 0.0000, 0.0000, 0.0000, 0.0000, 0.0000,\n",
       "           0.0000, 0.0000, 0.0000, 0.6902, 0.9647, 0.9922, 0.6235, 0.0471,\n",
       "           0.0000, 0.0000, 0.0000, 0.0000, 0.0000, 0.0000, 0.0000, 0.0000,\n",
       "           0.0000, 0.0000, 0.0000, 0.0000],\n",
       "          [0.0000, 0.0000, 0.0000, 0.0000, 0.0000, 0.0000, 0.0000, 0.0000,\n",
       "           0.0000, 0.0000, 0.0980, 0.9176, 0.9922, 0.9137, 0.1373, 0.0000,\n",
       "           0.0000, 0.0000, 0.0000, 0.0000, 0.0000, 0.0000, 0.0000, 0.0000,\n",
       "           0.0000, 0.0000, 0.0000, 0.0000],\n",
       "          [0.0000, 0.0000, 0.0000, 0.0000, 0.0000, 0.0000, 0.0000, 0.0000,\n",
       "           0.0000, 0.0000, 0.7765, 0.9922, 0.9922, 0.5529, 0.0000, 0.0000,\n",
       "           0.0000, 0.0000, 0.0000, 0.0000, 0.0000, 0.0000, 0.0000, 0.0000,\n",
       "           0.0000, 0.0000, 0.0000, 0.0000],\n",
       "          [0.0000, 0.0000, 0.0000, 0.0000, 0.0000, 0.0000, 0.0000, 0.0000,\n",
       "           0.0000, 0.3059, 0.9725, 0.9922, 0.7412, 0.0471, 0.0000, 0.0000,\n",
       "           0.0000, 0.0000, 0.0000, 0.0000, 0.0000, 0.0000, 0.0000, 0.0000,\n",
       "           0.0000, 0.0000, 0.0000, 0.0000],\n",
       "          [0.0000, 0.0000, 0.0000, 0.0000, 0.0000, 0.0000, 0.0000, 0.0000,\n",
       "           0.0745, 0.7843, 0.9922, 0.9922, 0.5529, 0.0000, 0.0000, 0.0000,\n",
       "           0.0000, 0.0000, 0.0000, 0.0000, 0.0000, 0.0000, 0.0000, 0.0000,\n",
       "           0.0000, 0.0000, 0.0000, 0.0000],\n",
       "          [0.0000, 0.0000, 0.0000, 0.0000, 0.0000, 0.0000, 0.0000, 0.0000,\n",
       "           0.5255, 0.9922, 0.9922, 0.6784, 0.0471, 0.0000, 0.0000, 0.0000,\n",
       "           0.0000, 0.0000, 0.0000, 0.0000, 0.0000, 0.0000, 0.0000, 0.0000,\n",
       "           0.0000, 0.0000, 0.0000, 0.0000],\n",
       "          [0.0000, 0.0000, 0.0000, 0.0000, 0.0000, 0.0000, 0.0000, 0.0000,\n",
       "           0.9725, 0.9922, 0.9922, 0.0980, 0.0000, 0.0000, 0.0000, 0.0000,\n",
       "           0.0000, 0.0000, 0.0000, 0.0000, 0.0000, 0.0000, 0.0000, 0.0000,\n",
       "           0.0000, 0.0000, 0.0000, 0.0000],\n",
       "          [0.0000, 0.0000, 0.0000, 0.0000, 0.0000, 0.0000, 0.0000, 0.0000,\n",
       "           0.9725, 0.9922, 0.9922, 0.1686, 0.0784, 0.0784, 0.0784, 0.0784,\n",
       "           0.0196, 0.0000, 0.0196, 0.0784, 0.0784, 0.1451, 0.5882, 0.5882,\n",
       "           0.5882, 0.5765, 0.0392, 0.0000],\n",
       "          [0.0000, 0.0000, 0.0000, 0.0000, 0.0000, 0.0000, 0.0000, 0.0000,\n",
       "           0.9725, 0.9922, 0.9922, 0.9922, 0.9922, 0.9922, 0.9922, 0.9922,\n",
       "           0.6588, 0.5608, 0.6510, 0.9922, 0.9922, 0.9922, 0.9922, 0.9922,\n",
       "           0.9922, 0.9922, 0.4824, 0.0000],\n",
       "          [0.0000, 0.0000, 0.0000, 0.0000, 0.0000, 0.0000, 0.0000, 0.0000,\n",
       "           0.6824, 0.9922, 0.9922, 0.9922, 0.9922, 0.9922, 0.9922, 0.9922,\n",
       "           0.9922, 0.9922, 0.9922, 0.9922, 0.9765, 0.9686, 0.9686, 0.6627,\n",
       "           0.4588, 0.4588, 0.2235, 0.0000],\n",
       "          [0.0000, 0.0000, 0.0000, 0.0000, 0.0000, 0.0000, 0.0000, 0.0000,\n",
       "           0.0000, 0.4627, 0.4824, 0.4824, 0.4824, 0.6510, 0.9922, 0.9922,\n",
       "           0.9922, 0.6078, 0.4824, 0.4824, 0.1608, 0.0000, 0.0000, 0.0000,\n",
       "           0.0000, 0.0000, 0.0000, 0.0000],\n",
       "          [0.0000, 0.0000, 0.0000, 0.0000, 0.0000, 0.0000, 0.0000, 0.0000,\n",
       "           0.0000, 0.0000, 0.0000, 0.0000, 0.0000, 0.0000, 0.0000, 0.0000,\n",
       "           0.0000, 0.0000, 0.0000, 0.0000, 0.0000, 0.0000, 0.0000, 0.0000,\n",
       "           0.0000, 0.0000, 0.0000, 0.0000],\n",
       "          [0.0000, 0.0000, 0.0000, 0.0000, 0.0000, 0.0000, 0.0000, 0.0000,\n",
       "           0.0000, 0.0000, 0.0000, 0.0000, 0.0000, 0.0000, 0.0000, 0.0000,\n",
       "           0.0000, 0.0000, 0.0000, 0.0000, 0.0000, 0.0000, 0.0000, 0.0000,\n",
       "           0.0000, 0.0000, 0.0000, 0.0000],\n",
       "          [0.0000, 0.0000, 0.0000, 0.0000, 0.0000, 0.0000, 0.0000, 0.0000,\n",
       "           0.0000, 0.0000, 0.0000, 0.0000, 0.0000, 0.0000, 0.0000, 0.0000,\n",
       "           0.0000, 0.0000, 0.0000, 0.0000, 0.0000, 0.0000, 0.0000, 0.0000,\n",
       "           0.0000, 0.0000, 0.0000, 0.0000],\n",
       "          [0.0000, 0.0000, 0.0000, 0.0000, 0.0000, 0.0000, 0.0000, 0.0000,\n",
       "           0.0000, 0.0000, 0.0000, 0.0000, 0.0000, 0.0000, 0.0000, 0.0000,\n",
       "           0.0000, 0.0000, 0.0000, 0.0000, 0.0000, 0.0000, 0.0000, 0.0000,\n",
       "           0.0000, 0.0000, 0.0000, 0.0000],\n",
       "          [0.0000, 0.0000, 0.0000, 0.0000, 0.0000, 0.0000, 0.0000, 0.0000,\n",
       "           0.0000, 0.0000, 0.0000, 0.0000, 0.0000, 0.0000, 0.0000, 0.0000,\n",
       "           0.0000, 0.0000, 0.0000, 0.0000, 0.0000, 0.0000, 0.0000, 0.0000,\n",
       "           0.0000, 0.0000, 0.0000, 0.0000]]]),\n",
       " 2)"
      ]
     },
     "execution_count": 37,
     "metadata": {},
     "output_type": "execute_result"
    }
   ],
   "source": [
    "test_data[1]"
   ]
  }
 ],
 "metadata": {
  "kernelspec": {
   "display_name": "myvenv",
   "language": "python",
   "name": "python3"
  },
  "language_info": {
   "codemirror_mode": {
    "name": "ipython",
    "version": 3
   },
   "file_extension": ".py",
   "mimetype": "text/x-python",
   "name": "python",
   "nbconvert_exporter": "python",
   "pygments_lexer": "ipython3",
   "version": "3.11.8"
  }
 },
 "nbformat": 4,
 "nbformat_minor": 2
}
